{
 "cells": [
  {
   "cell_type": "markdown",
   "id": "e6e3c2d1",
   "metadata": {},
   "source": [
    "# Development notes for pyxelate\n",
    "\n",
    "## Display ratio calculation\n",
    "\n",
    "Round to quarters for ratios below 3, to halves for ratios below 5, and to integer numbers for all greater ratios."
   ]
  },
  {
   "cell_type": "code",
   "execution_count": 1,
   "id": "a2c3055c",
   "metadata": {},
   "outputs": [
    {
     "name": "stdout",
     "output_type": "stream",
     "text": [
      "Uprounded 17/10: 7/4\n",
      "Exact 3/2: 3/2\n"
     ]
    }
   ],
   "source": [
    "import math\n",
    "from fractions import Fraction\n",
    "\n",
    "uproundable = Fraction(17, 10)\n",
    "exact = Fraction(15, 10)\n",
    "\n",
    "uprounded_ratio = Fraction(math.ceil(uproundable * 4), 4)\n",
    "exact_ratio = Fraction(math.ceil(exact * 4), 4)\n",
    "\n",
    "print('Uprounded %s: %s' % (uproundable, uprounded_ratio))\n",
    "print('Exact %s: %s' % (exact, exact_ratio))"
   ]
  },
  {
   "cell_type": "code",
   "execution_count": 2,
   "id": "c74328ec",
   "metadata": {},
   "outputs": [],
   "source": [
    "def display_ratio(image_size, canvas_size):\n",
    "    \"\"\"Display ratio calculated per dimension\"\"\"\n",
    "    if image_size < canvas_size:\n",
    "        return 1\n",
    "    #\n",
    "    raw_ratio = Fraction(image_size, canvas_size)\n",
    "    if raw_ratio <= 3:\n",
    "        return Fraction(math.ceil(raw_ratio * 4), 4)\n",
    "    #\n",
    "    if raw_ratio <= 5:\n",
    "        return Fraction(math.ceil(raw_ratio * 2), 2)\n",
    "    #\n",
    "    return math.ceil(raw_ratio)"
   ]
  },
  {
   "cell_type": "code",
   "execution_count": 3,
   "id": "a2ad3a60",
   "metadata": {},
   "outputs": [
    {
     "name": "stdout",
     "output_type": "stream",
     "text": [
      "7/4\n",
      "7/2\n",
      "6\n"
     ]
    }
   ],
   "source": [
    "print(display_ratio(17, 10))\n",
    "print(display_ratio(17, 5))\n",
    "print(display_ratio(17, 3))"
   ]
  },
  {
   "cell_type": "markdown",
   "id": "531fd3f4",
   "metadata": {},
   "source": [
    "## pixelate-video considerations"
   ]
  },
  {
   "cell_type": "markdown",
   "id": "d557e831",
   "metadata": {},
   "source": [
    "### Add a ttk.progressbar in a modal window for long-running tasks\n",
    "\n",
    "<https://tkdocs.com/shipman/ttk-Progressbar.html> with `mode='determinate'` if possible\n",
    "\n",
    "Use cases:\n",
    "- Splitting a video file into frames (after selecting a video file)\n",
    "- Applying pixelations to the selected frames (apply and continue, save as…)\n",
    "- Joining the frames to generate the result video (save as…)\n",
    "- Adding the audio stream to the result video (save as…)"
   ]
  },
  {
   "cell_type": "markdown",
   "id": "ee0fc6a1",
   "metadata": {},
   "source": [
    "### Generic workflow\n",
    "\n",
    "- Select a video file\n",
    "- Create a temporary directory (cleanup an existing one before)\n",
    "- Split the video into frames -> `{tempdir}/original` directory (see <https://github.com/Wikinaut/utils/wiki#How_to_extract_every_nth_frame>))\n",
    "- Select the first frame for pixelation using a scale (<https://tkdocs.com/shipman/scale.html>, ending the last but one frame) and select the pixelation parameters like in pixelate_image\n",
    "- Select the last frame for pixelation using a scale (starting at the frame directly following the first frame) and select pixelation parameters _except tilesize and shape_\n",
    "- When clicking 'Apply and continue':\n",
    "  - Apply the pixelations from start frame to end frame\n",
    "  - Replace the matching originals with these frames\n",
    "  - Start over at selecting the first frame\n",
    "- When clicking 'Save as…':\n",
    "  - Apply the pixelations from start frame to end frame\n",
    "  - Join all frames into a new video, re-using all applicable information from the original video\n",
    "  - Add the original audio stream(s) of the original video, if any\n",
    "  - Cleanup the temporary directory\n",
    "  - exit"
   ]
  },
  {
   "cell_type": "markdown",
   "id": "2d720eeb",
   "metadata": {},
   "source": [
    "### \"Touched\" flag\n",
    "\n",
    "- Set to `False` after loading a video\n",
    "- Set to `True` after first change on the \"Select first frame\" panel\n",
    "- Set to `False` after saving"
   ]
  },
  {
   "cell_type": "markdown",
   "id": "e54c86c9",
   "metadata": {},
   "source": [
    "### Getting video information\n",
    "\n",
    "via <https://gist.github.com/nrk/2286511>: `ffprobe -v quiet -print_format json -show_streams -show_format <video_file>`\n",
    "        \n",
    "Example output:\n",
    "```\n",
    "$ ffprobe -v quiet -print_format json -show_streams -show_format nosound-example.mp4 \n",
    "{\n",
    "    \"streams\": [\n",
    "        {\n",
    "            \"index\": 0,\n",
    "            \"codec_name\": \"h264\",\n",
    "            \"codec_long_name\": \"H.264 / AVC / MPEG-4 AVC / MPEG-4 part 10\",\n",
    "            \"profile\": \"High 4:4:4 Predictive\",\n",
    "            \"codec_type\": \"video\",\n",
    "            \"codec_tag_string\": \"avc1\",\n",
    "            \"codec_tag\": \"0x31637661\",\n",
    "            \"width\": 720,\n",
    "            \"height\": 576,\n",
    "            \"coded_width\": 720,\n",
    "            \"coded_height\": 576,\n",
    "            \"closed_captions\": 0,\n",
    "            \"has_b_frames\": 2,\n",
    "            \"sample_aspect_ratio\": \"64:45\",\n",
    "            \"display_aspect_ratio\": \"16:9\",\n",
    "            \"pix_fmt\": \"yuv444p\",\n",
    "            \"level\": 30,\n",
    "            \"chroma_location\": \"left\",\n",
    "            \"refs\": 1,\n",
    "            \"is_avc\": \"true\",\n",
    "            \"nal_length_size\": \"4\",\n",
    "            \"r_frame_rate\": \"25/1\",\n",
    "            \"avg_frame_rate\": \"25/1\",\n",
    "            \"time_base\": \"1/12800\",\n",
    "            \"start_pts\": 0,\n",
    "            \"start_time\": \"0.000000\",\n",
    "            \"duration_ts\": 404992,\n",
    "            \"duration\": \"31.640000\",\n",
    "            \"bit_rate\": \"3401977\",\n",
    "            \"bits_per_raw_sample\": \"8\",\n",
    "            \"nb_frames\": \"791\",\n",
    "            \"disposition\": {\n",
    "                \"default\": 1,\n",
    "                \"dub\": 0,\n",
    "                \"original\": 0,\n",
    "                \"comment\": 0,\n",
    "                \"lyrics\": 0,\n",
    "                \"karaoke\": 0,\n",
    "                \"forced\": 0,\n",
    "                \"hearing_impaired\": 0,\n",
    "                \"visual_impaired\": 0,\n",
    "                \"clean_effects\": 0,\n",
    "                \"attached_pic\": 0,\n",
    "                \"timed_thumbnails\": 0\n",
    "            },\n",
    "            \"tags\": {\n",
    "                \"language\": \"und\",\n",
    "                \"handler_name\": \"VideoHandler\",\n",
    "                \"vendor_id\": \"[0][0][0][0]\"\n",
    "            }\n",
    "        }\n",
    "    ],\n",
    "    \"format\": {\n",
    "        \"filename\": \"nosound-example.mp4\",\n",
    "        \"nb_streams\": 1,\n",
    "        \"nb_programs\": 0,\n",
    "        \"format_name\": \"mov,mp4,m4a,3gp,3g2,mj2\",\n",
    "        \"format_long_name\": \"QuickTime / MOV\",\n",
    "        \"start_time\": \"0.000000\",\n",
    "        \"duration\": \"31.640000\",\n",
    "        \"size\": \"13465185\",\n",
    "        \"bit_rate\": \"3404597\",\n",
    "        \"probe_score\": 100,\n",
    "        \"tags\": {\n",
    "            \"major_brand\": \"isom\",\n",
    "            \"minor_version\": \"512\",\n",
    "            \"compatible_brands\": \"isomiso2avc1mp41\",\n",
    "            \"encoder\": \"Lavf58.20.100\"\n",
    "        }\n",
    "    }\n",
    "}\n",
    "```"
   ]
  },
  {
   "cell_type": "markdown",
   "id": "e8a5cea8",
   "metadata": {},
   "source": [
    "### ffmpeg video decomposition including progress output\n",
    "\n",
    "see <https://github.com/Wikinaut/utils/wiki#How_to_extract_every_nth_frame> and <https://stackoverflow.com/a/43980180>: `ffmpeg -v quiet -i <video_file> -progress - <output_file_name_pattern>`\n",
    "\n",
    "For example:\n",
    "```\n",
    "$ ffmpeg -v quiet -i nosound-example.mp4 -progress - frames/frame%04d.jpg\n",
    "frame=1\n",
    "fps=0.00\n",
    "stream_0_0_q=4.3\n",
    "bitrate=N/A\n",
    "total_size=N/A\n",
    "out_time_us=40000\n",
    "out_time_ms=40000\n",
    "out_time=00:00:00.040000\n",
    "dup_frames=0\n",
    "drop_frames=0\n",
    "speed=0.841x\n",
    "progress=continue\n",
    "frame=44\n",
    "fps=0.00\n",
    "stream_0_0_q=24.8\n",
    "bitrate=N/A\n",
    "total_size=N/A\n",
    "out_time_us=1760000\n",
    "out_time_ms=1760000\n",
    "out_time=00:00:01.760000\n",
    "dup_frames=0\n",
    "drop_frames=0\n",
    "speed=3.19x\n",
    "progress=continue\n",
    "frame=90\n",
    "fps=85.45\n",
    "stream_0_0_q=24.8\n",
    "bitrate=N/A\n",
    "total_size=N/A\n",
    "out_time_us=3600000\n",
    "out_time_ms=3600000\n",
    "out_time=00:00:03.600000\n",
    "dup_frames=0\n",
    "drop_frames=0\n",
    "speed=3.42x\n",
    "progress=continue\n",
    "\n",
    "(...)\n",
    "\n",
    "frame=693\n",
    "fps=91.04\n",
    "stream_0_0_q=24.8\n",
    "bitrate=N/A\n",
    "total_size=N/A\n",
    "out_time_us=27720000\n",
    "out_time_ms=27720000\n",
    "out_time=00:00:27.720000\n",
    "dup_frames=0\n",
    "drop_frames=0\n",
    "speed=3.64x\n",
    "progress=continue\n",
    "frame=740\n",
    "fps=91.22\n",
    "stream_0_0_q=24.8\n",
    "bitrate=N/A\n",
    "total_size=N/A\n",
    "out_time_us=29600000\n",
    "out_time_ms=29600000\n",
    "out_time=00:00:29.600000\n",
    "dup_frames=0\n",
    "drop_frames=0\n",
    "speed=3.65x\n",
    "progress=continue\n",
    "frame=788\n",
    "fps=91.41\n",
    "stream_0_0_q=24.8\n",
    "bitrate=N/A\n",
    "total_size=N/A\n",
    "out_time_us=31520000\n",
    "out_time_ms=31520000\n",
    "out_time=00:00:31.520000\n",
    "dup_frames=0\n",
    "drop_frames=0\n",
    "speed=3.66x\n",
    "progress=continue\n",
    "frame=791\n",
    "fps=91.38\n",
    "stream_0_0_q=24.8\n",
    "bitrate=N/A\n",
    "total_size=N/A\n",
    "out_time_us=31640000\n",
    "out_time_ms=31640000\n",
    "out_time=00:00:31.640000\n",
    "dup_frames=0\n",
    "drop_frames=0\n",
    "speed=3.66x\n",
    "progress=end\n",
    "```"
   ]
  },
  {
   "cell_type": "markdown",
   "id": "86d74523",
   "metadata": {},
   "source": [
    "### Combine Audio and video streams\n",
    "\n",
    "see <https://stackoverflow.com/a/11783474>"
   ]
  },
  {
   "cell_type": "markdown",
   "id": "f9537449",
   "metadata": {},
   "source": [
    "The following should work:\n",
    "```\n",
    "ffmpeg -i <pixelated_video> -i <original_video> -map 0 -map 1:a -c copy <finished_video>\n",
    "```"
   ]
  },
  {
   "cell_type": "markdown",
   "id": "d4979a4e",
   "metadata": {},
   "source": [
    "### Combining the pixelated frames to a video\n",
    "\n",
    "see <https://trac.ffmpeg.org/wiki/Slideshow#Sequential> and <https://trac.ffmpeg.org/wiki/Encode/H.264>\n",
    "\n",
    "use `-pix_fmt yuv420p` (<https://trac.ffmpeg.org/wiki/Slideshow#Colorspaceconversionandchromasub-sampling>)"
   ]
  },
  {
   "cell_type": "markdown",
   "id": "a313f16f",
   "metadata": {},
   "source": [
    "### ffmpeg documentation\n",
    "\n",
    "<https://ffmpeg.org/documentation.html>"
   ]
  },
  {
   "cell_type": "markdown",
   "id": "c5f0a1fa",
   "metadata": {},
   "source": [
    "### Encoding test\n",
    "\n",
    "`ffmpeg -v quiet -progress - -framerate 25 -i frames/frame%04d.jpg -c:v libx264 -vf \"fps=25,format=yuv420p\" out.mp4`\n",
    "\n",
    "-> succeeded, resulting in a slightly smaller output file than the original.\n",
    "\n",
    "Maybe it yould be a good idea to provide the option to add parameters manually (some kind of \"expert mode\"). \n"
   ]
  },
  {
   "cell_type": "markdown",
   "id": "148b5cd1",
   "metadata": {},
   "source": [
    "### Temporary directory\n",
    "\n",
    "One for original frames, and one for mofified frames"
   ]
  },
  {
   "cell_type": "code",
   "execution_count": null,
   "id": "ee16edee",
   "metadata": {},
   "outputs": [],
   "source": []
  }
 ],
 "metadata": {
  "kernelspec": {
   "display_name": "Python 3",
   "language": "python",
   "name": "python3"
  },
  "language_info": {
   "codemirror_mode": {
    "name": "ipython",
    "version": 3
   },
   "file_extension": ".py",
   "mimetype": "text/x-python",
   "name": "python",
   "nbconvert_exporter": "python",
   "pygments_lexer": "ipython3",
   "version": "3.9.7"
  }
 },
 "nbformat": 4,
 "nbformat_minor": 5
}
