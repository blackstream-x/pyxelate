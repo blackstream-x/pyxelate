{
 "cells": [
  {
   "cell_type": "markdown",
   "id": "61c6c322",
   "metadata": {},
   "source": [
    "# Development notes for pyxelate\n",
    "\n",
    "## Display ratio calculation\n",
    "\n",
    "Round to quarters for ratios below 3, to halves for ratios below 5, and to integer numbers for all greater ratios."
   ]
  },
  {
   "cell_type": "code",
   "execution_count": 1,
   "id": "e2adcea3",
   "metadata": {},
   "outputs": [
    {
     "name": "stdout",
     "output_type": "stream",
     "text": [
      "Uprounded 17/10: 7/4\n",
      "Exact 3/2: 3/2\n"
     ]
    }
   ],
   "source": [
    "import math\n",
    "from fractions import Fraction\n",
    "\n",
    "uproundable = Fraction(17, 10)\n",
    "exact = Fraction(15, 10)\n",
    "\n",
    "uprounded_ratio = Fraction(math.ceil(uproundable * 4), 4)\n",
    "exact_ratio = Fraction(math.ceil(exact * 4), 4)\n",
    "\n",
    "print('Uprounded %s: %s' % (uproundable, uprounded_ratio))\n",
    "print('Exact %s: %s' % (exact, exact_ratio))"
   ]
  },
  {
   "cell_type": "code",
   "execution_count": null,
   "id": "5a3f6989",
   "metadata": {},
   "outputs": [],
   "source": []
  }
 ],
 "metadata": {
  "kernelspec": {
   "display_name": "Python 3",
   "language": "python",
   "name": "python3"
  },
  "language_info": {
   "codemirror_mode": {
    "name": "ipython",
    "version": 3
   },
   "file_extension": ".py",
   "mimetype": "text/x-python",
   "name": "python",
   "nbconvert_exporter": "python",
   "pygments_lexer": "ipython3",
   "version": "3.9.7"
  }
 },
 "nbformat": 4,
 "nbformat_minor": 5
}
