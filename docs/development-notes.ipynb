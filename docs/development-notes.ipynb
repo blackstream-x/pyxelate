{
 "cells": [
  {
   "cell_type": "markdown",
   "id": "e6e3c2d1",
   "metadata": {},
   "source": [
    "# Development notes for pyxelate\n",
    "\n",
    "## Display ratio calculation\n",
    "\n",
    "Round to quarters for ratios below 3, to halves for ratios below 5, and to integer numbers for all greater ratios."
   ]
  },
  {
   "cell_type": "code",
   "execution_count": 1,
   "id": "a2c3055c",
   "metadata": {},
   "outputs": [
    {
     "name": "stdout",
     "output_type": "stream",
     "text": [
      "Uprounded 17/10: 7/4\n",
      "Exact 3/2: 3/2\n"
     ]
    }
   ],
   "source": [
    "import math\n",
    "from fractions import Fraction\n",
    "\n",
    "uproundable = Fraction(17, 10)\n",
    "exact = Fraction(15, 10)\n",
    "\n",
    "uprounded_ratio = Fraction(math.ceil(uproundable * 4), 4)\n",
    "exact_ratio = Fraction(math.ceil(exact * 4), 4)\n",
    "\n",
    "print('Uprounded %s: %s' % (uproundable, uprounded_ratio))\n",
    "print('Exact %s: %s' % (exact, exact_ratio))"
   ]
  },
  {
   "cell_type": "code",
   "execution_count": 3,
   "id": "c74328ec",
   "metadata": {},
   "outputs": [],
   "source": [
    "def display_ratio(image_size, canvas_size):\n",
    "    \"\"\"Display ratio calculated per dimension\"\"\"\n",
    "    if image_size < canvas_size:\n",
    "        return 1\n",
    "    #\n",
    "    raw_ratio = Fraction(image_size, canvas_size)\n",
    "    if raw_ratio <= 3:\n",
    "        return Fraction(math.ceil(raw_ratio * 4), 4)\n",
    "    #\n",
    "    if raw_ratio <= 5:\n",
    "        return Fraction(math.ceil(raw_ratio * 2), 2)\n",
    "    #\n",
    "    return math.ceil(raw_ratio)"
   ]
  },
  {
   "cell_type": "code",
   "execution_count": 4,
   "id": "a2ad3a60",
   "metadata": {},
   "outputs": [
    {
     "name": "stdout",
     "output_type": "stream",
     "text": [
      "7/4\n",
      "7/2\n",
      "6\n"
     ]
    }
   ],
   "source": [
    "print(display_ratio(17, 10))\n",
    "print(display_ratio(17, 5))\n",
    "print(display_ratio(17, 3))"
   ]
  },
  {
   "cell_type": "markdown",
   "id": "90806679",
   "metadata": {},
   "source": [
    "## pixelate-video considerations"
   ]
  },
  {
   "cell_type": "markdown",
   "id": "5fbf7202",
   "metadata": {},
   "source": [
    "### Add a ttk.progressbar in a modal window for long-running tasks\n",
    "\n",
    "<https://tkdocs.com/shipman/ttk-Progressbar.html> with `mode='determinate'` if possible\n",
    "\n",
    "Use cases:\n",
    "- Splitting a video file into frames (after selecting a video file)\n",
    "- Applying pixelations to the selected frames (apply and continue, save as…)\n",
    "- Joining the frames to generate the result video (save as…)\n",
    "- Adding the audio stream to the result video (save as…)"
   ]
  },
  {
   "cell_type": "markdown",
   "id": "920f1c3e",
   "metadata": {},
   "source": [
    "### Generic workflow\n",
    "\n",
    "- Select a video file\n",
    "- Create a temporary directory (cleanup an existing one before)\n",
    "- Split the video into frames -> `{tempdir}/original` directory (see <https://github.com/Wikinaut/utils/wiki#How_to_extract_every_nth_frame>))\n",
    "- Select the first frame for pixelation using a scale (<https://tkdocs.com/shipman/scale.html>, ending the last but one frame) and select the pixelation parameters like in pixelate_image\n",
    "- Select the last frame for pixelation using a scale (starting at the frame directly following the first frame) and select pixelation parameters _except tilesize and shape_\n",
    "- When clicking 'Apply and continue':\n",
    "  - Apply the pixelations from start frame to end frame\n",
    "  - Replace the matching originals with these frames\n",
    "  - Start over at selecting the first frame\n",
    "- When clicking 'Save as…':\n",
    "  - Apply the pixelations from start frame to end frame\n",
    "  - Join all frames into a new video, re-using all applicable information from the original video\n",
    "  - Add the original audio stream(s) of the original video, if any\n",
    "  - Cleanup the temporary directory"
   ]
  },
  {
   "cell_type": "markdown",
   "id": "a1dd0e11",
   "metadata": {},
   "source": [
    "### \"Touched\" flag\n",
    "\n",
    "- Set to `False` after loading a video\n",
    "- Set to `True` after first change on the \"Select first frame\" panel\n",
    "- Set to `False` after saving"
   ]
  },
  {
   "cell_type": "code",
   "execution_count": null,
   "id": "b7cf7c6a",
   "metadata": {},
   "outputs": [],
   "source": []
  }
 ],
 "metadata": {
  "kernelspec": {
   "display_name": "Python 3",
   "language": "python",
   "name": "python3"
  },
  "language_info": {
   "codemirror_mode": {
    "name": "ipython",
    "version": 3
   },
   "file_extension": ".py",
   "mimetype": "text/x-python",
   "name": "python",
   "nbconvert_exporter": "python",
   "pygments_lexer": "ipython3",
   "version": "3.9.7"
  }
 },
 "nbformat": 4,
 "nbformat_minor": 5
}
